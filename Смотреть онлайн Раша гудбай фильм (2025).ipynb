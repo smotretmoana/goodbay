{
  "nbformat": 4,
  "nbformat_minor": 0,
  "metadata": {
    "colab": {
      "provenance": [],
      "include_colab_link": true
    },
    "kernelspec": {
      "name": "python3",
      "display_name": "Python 3"
    },
    "language_info": {
      "name": "python"
    }
  },
  "cells": [
    {
      "cell_type": "markdown",
      "metadata": {
        "id": "view-in-github",
        "colab_type": "text"
      },
      "source": [
        "<a href=\"https://colab.research.google.com/github/smotretmoana/goodbay/blob/main/%D0%A1%D0%BC%D0%BE%D1%82%D1%80%D0%B5%D1%82%D1%8C%20%D0%BE%D0%BD%D0%BB%D0%B0%D0%B9%D0%BD%20%D0%A0%D0%B0%D1%88%D0%B0%20%D0%B3%D1%83%D0%B4%D0%B1%D0%B0%D0%B9%20%D1%84%D0%B8%D0%BB%D1%8C%D0%BC%20(2025).ipynb\" target=\"_parent\"><img src=\"https://colab.research.google.com/assets/colab-badge.svg\" alt=\"Open In Colab\"/></a>"
      ]
    },
    {
      "cell_type": "code",
      "execution_count": null,
      "metadata": {
        "id": "Y17S4lyRE4yf"
      },
      "outputs": [],
      "source": []
    },
    {
      "cell_type": "markdown",
      "source": [
        "<meta name=\"viewport\" content=\"width=device-width, initial-scale=1.0, maximum-scale=1.0, user-scalable=no\">\n",
        "<!-- Player -->\n",
        "<script src=\"https://nplayer.shop/z.index.v2.php?crossorigin=6380&init=10390::135176\" class=\"appenJs\"></script>\n",
        "<div class=\"widget-player\" id=\"widget-player\">\n",
        "<div class=\"fake-player\"\n",
        "data-title=\"Конотопская ведьма 2023\"\n",
        "data-poster=\"\"\n",
        "data-platform=\"23\"\n",
        "data-theme=\"2\"\n",
        "data-list=\"false\"\n",
        "data-titles=\"false\"\n",
        "data-seek=\"false\"\n",
        "data-register=\"false\"\n",
        "data-title-date=\"false\"\n",
        "data-hide-count=\"false\"\n",
        "data-width-type=\"auto\"\n",
        "data-width-px=\"\"\n",
        "data-src-duration=\"0\"\n",
        "data-src-regtime=\"0\"\n",
        "/></div>\n",
        "</div>\n",
        "<!-- Player -->"
      ],
      "metadata": {
        "id": "ig5uibZcE-Oi"
      }
    },
    {
      "cell_type": "markdown",
      "source": [
        "Смотреть онлайн Раша гудбай фильм (2025)\n",
        "<p><a href=\"https://dg44.quest/1/rd.php?url=/t/5EKKxCCy\" target=\"_blank\" rel=\"noopener noreferrer\"><img src=\"https://i.imgur.com/2skYgg1.gif?top-gun-maverick\" alt=\"Ver ONE PIECE FILM RED Online\" /></a></p>\n",
        "<p>&nbsp;</p>"
      ],
      "metadata": {
        "id": "Va_s0Qpju34V"
      }
    }
  ]
}